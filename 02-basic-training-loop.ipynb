{
 "cells": [
  {
   "cell_type": "markdown",
   "metadata": {},
   "source": [
    "## Setup"
   ]
  },
  {
   "cell_type": "code",
   "execution_count": 1,
   "metadata": {},
   "outputs": [
    {
     "data": {
      "text/html": [
       "<style>.container { width:100% !important; }</style>"
      ],
      "text/plain": [
       "<IPython.core.display.HTML object>"
      ]
     },
     "metadata": {},
     "output_type": "display_data"
    }
   ],
   "source": [
    "from IPython.core.display import display, HTML\n",
    "display(HTML(\"<style>.container { width:100% !important; }</style>\"))"
   ]
  },
  {
   "cell_type": "code",
   "execution_count": 2,
   "metadata": {},
   "outputs": [],
   "source": [
    "from utils import *\n",
    "\n",
    "%matplotlib inline\n",
    "%reload_ext autoreload\n",
    "%autoreload 2"
   ]
  },
  {
   "cell_type": "code",
   "execution_count": 3,
   "metadata": {},
   "outputs": [
    {
     "data": {
      "text/plain": [
       "[PosixPath('data/challenge-2018-class-descriptions-500.csv'),\n",
       " PosixPath('data/challenge-2018-image-ids-valset-od.csv'),\n",
       " PosixPath('data/validation'),\n",
       " PosixPath('data/tmp'),\n",
       " PosixPath('data/challenge-2018-train-annotations-human-imagelabels.csv'),\n",
       " PosixPath('data/bbox_labels_500_hierarchy.json'),\n",
       " PosixPath('data/challenge2018_test'),\n",
       " PosixPath('data/train'),\n",
       " PosixPath('data/challenge-2018-train-annotations-bbox.csv'),\n",
       " PosixPath('data/train-images-boxable-with-rotation.csv')]"
      ]
     },
     "execution_count": 3,
     "metadata": {},
     "output_type": "execute_result"
    }
   ],
   "source": [
    "DATA_PATH= Path('data/')\n",
    "TRAIN_PATH=DATA_PATH/'train/'\n",
    "TMP_PATH=DATA_PATH/'tmp/'\n",
    "list(DATA_PATH.iterdir())"
   ]
  },
  {
   "cell_type": "code",
   "execution_count": 4,
   "metadata": {},
   "outputs": [],
   "source": [
    "class2ids = load_obj(TMP_PATH/'class_to_ids.pkl')\n",
    "ids2class = load_obj(TMP_PATH/'ids_to_class.pkl')\n",
    "class2name = load_obj(TMP_PATH/'class_to_name.pkl')"
   ]
  },
  {
   "cell_type": "code",
   "execution_count": 5,
   "metadata": {},
   "outputs": [
    {
     "name": "stdout",
     "output_type": "stream",
     "text": [
      "(1674979, 2)\n"
     ]
    },
    {
     "data": {
      "text/html": [
       "<div>\n",
       "<style scoped>\n",
       "    .dataframe tbody tr th:only-of-type {\n",
       "        vertical-align: middle;\n",
       "    }\n",
       "\n",
       "    .dataframe tbody tr th {\n",
       "        vertical-align: top;\n",
       "    }\n",
       "\n",
       "    .dataframe thead th {\n",
       "        text-align: right;\n",
       "    }\n",
       "</style>\n",
       "<table border=\"1\" class=\"dataframe\">\n",
       "  <thead>\n",
       "    <tr style=\"text-align: right;\">\n",
       "      <th></th>\n",
       "      <th>ImageID</th>\n",
       "      <th>bb</th>\n",
       "    </tr>\n",
       "  </thead>\n",
       "  <tbody>\n",
       "    <tr>\n",
       "      <th>0</th>\n",
       "      <td>4fa8054781a4c382</td>\n",
       "      <td>[[338.0, 0.388125, 0.355, 0.473125, 0.631667],...</td>\n",
       "    </tr>\n",
       "    <tr>\n",
       "      <th>1</th>\n",
       "      <td>b37f763ae67d0888</td>\n",
       "      <td>[[113.0, 0.188281, 0.297917, 0.320312, 0.81875...</td>\n",
       "    </tr>\n",
       "    <tr>\n",
       "      <th>2</th>\n",
       "      <td>7e8584b0f487cb9e</td>\n",
       "      <td>[[164.0, 0.15015599999999998, 0.275625, 0.5380...</td>\n",
       "    </tr>\n",
       "    <tr>\n",
       "      <th>3</th>\n",
       "      <td>86638230febe21c4</td>\n",
       "      <td>[[240.0, 0.603333, 0.21375, 0.970833, 0.574375...</td>\n",
       "    </tr>\n",
       "    <tr>\n",
       "      <th>4</th>\n",
       "      <td>249086e72671397d</td>\n",
       "      <td>[[338.0, 0.630625, 0.699029, 0.695625, 0.90114...</td>\n",
       "    </tr>\n",
       "  </tbody>\n",
       "</table>\n",
       "</div>"
      ],
      "text/plain": [
       "            ImageID                                                 bb\n",
       "0  4fa8054781a4c382  [[338.0, 0.388125, 0.355, 0.473125, 0.631667],...\n",
       "1  b37f763ae67d0888  [[113.0, 0.188281, 0.297917, 0.320312, 0.81875...\n",
       "2  7e8584b0f487cb9e  [[164.0, 0.15015599999999998, 0.275625, 0.5380...\n",
       "3  86638230febe21c4  [[240.0, 0.603333, 0.21375, 0.970833, 0.574375...\n",
       "4  249086e72671397d  [[338.0, 0.630625, 0.699029, 0.695625, 0.90114..."
      ]
     },
     "execution_count": 5,
     "metadata": {},
     "output_type": "execute_result"
    }
   ],
   "source": [
    "train_data = pd.read_csv(TMP_PATH/'train_images_bbox.csv')\n",
    "print(train_data.shape)\n",
    "train_data.head()"
   ]
  },
  {
   "cell_type": "code",
   "execution_count": 6,
   "metadata": {},
   "outputs": [
    {
     "name": "stdout",
     "output_type": "stream",
     "text": [
      "ImageID    object\n",
      "bb         object\n",
      "dtype: object\n"
     ]
    },
    {
     "data": {
      "text/html": [
       "<div>\n",
       "<style scoped>\n",
       "    .dataframe tbody tr th:only-of-type {\n",
       "        vertical-align: middle;\n",
       "    }\n",
       "\n",
       "    .dataframe tbody tr th {\n",
       "        vertical-align: top;\n",
       "    }\n",
       "\n",
       "    .dataframe thead th {\n",
       "        text-align: right;\n",
       "    }\n",
       "</style>\n",
       "<table border=\"1\" class=\"dataframe\">\n",
       "  <thead>\n",
       "    <tr style=\"text-align: right;\">\n",
       "      <th></th>\n",
       "      <th>ImageID</th>\n",
       "      <th>bb</th>\n",
       "    </tr>\n",
       "  </thead>\n",
       "  <tbody>\n",
       "    <tr>\n",
       "      <th>0</th>\n",
       "      <td>4fa8054781a4c382</td>\n",
       "      <td>[[338.0, 0.388125, 0.355, 0.473125, 0.631667],...</td>\n",
       "    </tr>\n",
       "    <tr>\n",
       "      <th>1</th>\n",
       "      <td>b37f763ae67d0888</td>\n",
       "      <td>[[113.0, 0.188281, 0.297917, 0.320312, 0.81875...</td>\n",
       "    </tr>\n",
       "    <tr>\n",
       "      <th>2</th>\n",
       "      <td>7e8584b0f487cb9e</td>\n",
       "      <td>[[164.0, 0.15015599999999998, 0.275625, 0.5380...</td>\n",
       "    </tr>\n",
       "    <tr>\n",
       "      <th>3</th>\n",
       "      <td>86638230febe21c4</td>\n",
       "      <td>[[240.0, 0.603333, 0.21375, 0.970833, 0.574375...</td>\n",
       "    </tr>\n",
       "    <tr>\n",
       "      <th>4</th>\n",
       "      <td>249086e72671397d</td>\n",
       "      <td>[[338.0, 0.630625, 0.699029, 0.695625, 0.90114...</td>\n",
       "    </tr>\n",
       "  </tbody>\n",
       "</table>\n",
       "</div>"
      ],
      "text/plain": [
       "            ImageID                                                 bb\n",
       "0  4fa8054781a4c382  [[338.0, 0.388125, 0.355, 0.473125, 0.631667],...\n",
       "1  b37f763ae67d0888  [[113.0, 0.188281, 0.297917, 0.320312, 0.81875...\n",
       "2  7e8584b0f487cb9e  [[164.0, 0.15015599999999998, 0.275625, 0.5380...\n",
       "3  86638230febe21c4  [[240.0, 0.603333, 0.21375, 0.970833, 0.574375...\n",
       "4  249086e72671397d  [[338.0, 0.630625, 0.699029, 0.695625, 0.90114..."
      ]
     },
     "execution_count": 6,
     "metadata": {},
     "output_type": "execute_result"
    }
   ],
   "source": [
    "train_data['bb'] = train_data['bb'].apply(lambda x: ast.literal_eval(x))\n",
    "print(train_data.dtypes)\n",
    "train_data.head()"
   ]
  },
  {
   "cell_type": "code",
   "execution_count": null,
   "metadata": {},
   "outputs": [],
   "source": []
  }
 ],
 "metadata": {
  "kernelspec": {
   "display_name": "Python 3",
   "language": "python",
   "name": "python3"
  },
  "language_info": {
   "codemirror_mode": {
    "name": "ipython",
    "version": 3
   },
   "file_extension": ".py",
   "mimetype": "text/x-python",
   "name": "python",
   "nbconvert_exporter": "python",
   "pygments_lexer": "ipython3",
   "version": "3.6.6"
  }
 },
 "nbformat": 4,
 "nbformat_minor": 2
}
