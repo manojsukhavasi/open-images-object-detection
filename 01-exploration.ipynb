{
 "cells": [
  {
   "cell_type": "markdown",
   "metadata": {},
   "source": [
    "## Imports and environment setup"
   ]
  },
  {
   "cell_type": "code",
   "execution_count": 12,
   "metadata": {},
   "outputs": [
    {
     "data": {
      "text/html": [
       "<style>.container { width:100% !important; }</style>"
      ],
      "text/plain": [
       "<IPython.core.display.HTML object>"
      ]
     },
     "metadata": {},
     "output_type": "display_data"
    }
   ],
   "source": [
    "from IPython.core.display import display, HTML\n",
    "display(HTML(\"<style>.container { width:100% !important; }</style>\"))"
   ]
  },
  {
   "cell_type": "code",
   "execution_count": 51,
   "metadata": {},
   "outputs": [],
   "source": [
    "from utils import *\n",
    "\n",
    "%matplotlib inline\n",
    "%reload_ext autoreload\n",
    "%autoreload 2"
   ]
  },
  {
   "cell_type": "code",
   "execution_count": 50,
   "metadata": {},
   "outputs": [
    {
     "data": {
      "text/plain": [
       "[PosixPath('data/challenge-2018-class-descriptions-500.csv'),\n",
       " PosixPath('data/challenge-2018-image-ids-valset-od.csv'),\n",
       " PosixPath('data/validation'),\n",
       " PosixPath('data/tmp'),\n",
       " PosixPath('data/challenge-2018-train-annotations-human-imagelabels.csv'),\n",
       " PosixPath('data/bbox_labels_500_hierarchy.json'),\n",
       " PosixPath('data/challenge2018_test'),\n",
       " PosixPath('data/train'),\n",
       " PosixPath('data/challenge-2018-train-annotations-bbox.csv'),\n",
       " PosixPath('data/train-images-boxable-with-rotation.csv')]"
      ]
     },
     "execution_count": 50,
     "metadata": {},
     "output_type": "execute_result"
    }
   ],
   "source": [
    "DATA_PATH= Path('data/')\n",
    "TRAIN_PATH=DATA_PATH/'train/'\n",
    "TMP_PATH=DATA_PATH/'tmp/'\n",
    "list(DATA_PATH.iterdir())"
   ]
  },
  {
   "cell_type": "markdown",
   "metadata": {},
   "source": [
    "## Exploring the data"
   ]
  },
  {
   "cell_type": "markdown",
   "metadata": {},
   "source": [
    "### Train images and filenames"
   ]
  },
  {
   "cell_type": "code",
   "execution_count": 11,
   "metadata": {},
   "outputs": [
    {
     "name": "stdout",
     "output_type": "stream",
     "text": [
      "(1743042, 12)\n"
     ]
    },
    {
     "data": {
      "text/html": [
       "<div>\n",
       "<style scoped>\n",
       "    .dataframe tbody tr th:only-of-type {\n",
       "        vertical-align: middle;\n",
       "    }\n",
       "\n",
       "    .dataframe tbody tr th {\n",
       "        vertical-align: top;\n",
       "    }\n",
       "\n",
       "    .dataframe thead th {\n",
       "        text-align: right;\n",
       "    }\n",
       "</style>\n",
       "<table border=\"1\" class=\"dataframe\">\n",
       "  <thead>\n",
       "    <tr style=\"text-align: right;\">\n",
       "      <th></th>\n",
       "      <th>ImageID</th>\n",
       "      <th>Subset</th>\n",
       "      <th>OriginalURL</th>\n",
       "      <th>OriginalLandingURL</th>\n",
       "      <th>License</th>\n",
       "      <th>AuthorProfileURL</th>\n",
       "      <th>Author</th>\n",
       "      <th>Title</th>\n",
       "      <th>OriginalSize</th>\n",
       "      <th>OriginalMD5</th>\n",
       "      <th>Thumbnail300KURL</th>\n",
       "      <th>Rotation</th>\n",
       "    </tr>\n",
       "  </thead>\n",
       "  <tbody>\n",
       "    <tr>\n",
       "      <th>0</th>\n",
       "      <td>4fa8054781a4c382</td>\n",
       "      <td>train</td>\n",
       "      <td>https://farm3.staticflickr.com/5310/5898076654...</td>\n",
       "      <td>https://www.flickr.com/photos/michael-beat/589...</td>\n",
       "      <td>https://creativecommons.org/licenses/by/2.0/</td>\n",
       "      <td>https://www.flickr.com/people/michael-beat/</td>\n",
       "      <td>Michael Beat</td>\n",
       "      <td>...die FNF-Kerze</td>\n",
       "      <td>4405052</td>\n",
       "      <td>KFukvivpCM5QXl5SqKe41g==</td>\n",
       "      <td>https://c1.staticflickr.com/6/5310/5898076654_...</td>\n",
       "      <td>0.0</td>\n",
       "    </tr>\n",
       "    <tr>\n",
       "      <th>1</th>\n",
       "      <td>b37f763ae67d0888</td>\n",
       "      <td>train</td>\n",
       "      <td>https://c1.staticflickr.com/1/67/197493648_628...</td>\n",
       "      <td>https://www.flickr.com/photos/drstarbuck/19749...</td>\n",
       "      <td>https://creativecommons.org/licenses/by/2.0/</td>\n",
       "      <td>https://www.flickr.com/people/drstarbuck/</td>\n",
       "      <td>Karen</td>\n",
       "      <td>Three boys on a hill</td>\n",
       "      <td>494555</td>\n",
       "      <td>9IzEn38GRNsVpATuv7gzEA==</td>\n",
       "      <td>https://c3.staticflickr.com/1/67/197493648_628...</td>\n",
       "      <td>0.0</td>\n",
       "    </tr>\n",
       "    <tr>\n",
       "      <th>2</th>\n",
       "      <td>7e8584b0f487cb9e</td>\n",
       "      <td>train</td>\n",
       "      <td>https://c7.staticflickr.com/8/7056/7143870979_...</td>\n",
       "      <td>https://www.flickr.com/photos/circasassy/71438...</td>\n",
       "      <td>https://creativecommons.org/licenses/by/2.0/</td>\n",
       "      <td>https://www.flickr.com/people/circasassy/</td>\n",
       "      <td>CircaSassy</td>\n",
       "      <td>A Christmas carol and The cricket on the heart...</td>\n",
       "      <td>2371584</td>\n",
       "      <td>3hQwu0iSzY1VIoXiwp0/Mg==</td>\n",
       "      <td>https://c7.staticflickr.com/8/7056/7143870979_...</td>\n",
       "      <td>0.0</td>\n",
       "    </tr>\n",
       "    <tr>\n",
       "      <th>3</th>\n",
       "      <td>86638230febe21c4</td>\n",
       "      <td>train</td>\n",
       "      <td>https://farm5.staticflickr.com/5128/5301868579...</td>\n",
       "      <td>https://www.flickr.com/photos/ajcreencia/53018...</td>\n",
       "      <td>https://creativecommons.org/licenses/by/2.0/</td>\n",
       "      <td>https://www.flickr.com/people/ajcreencia/</td>\n",
       "      <td>Alex</td>\n",
       "      <td>Abbey and Kenny</td>\n",
       "      <td>949267</td>\n",
       "      <td>onB+rCZnGQg5PRX7xOs18Q==</td>\n",
       "      <td>https://c4.staticflickr.com/6/5128/5301868579_...</td>\n",
       "      <td>NaN</td>\n",
       "    </tr>\n",
       "    <tr>\n",
       "      <th>4</th>\n",
       "      <td>249086e72671397d</td>\n",
       "      <td>train</td>\n",
       "      <td>https://c6.staticflickr.com/4/3930/15342460029...</td>\n",
       "      <td>https://www.flickr.com/photos/codnewsroom/1534...</td>\n",
       "      <td>https://creativecommons.org/licenses/by/2.0/</td>\n",
       "      <td>https://www.flickr.com/people/codnewsroom/</td>\n",
       "      <td>COD Newsroom</td>\n",
       "      <td>Suburban Law Enforcement Academy 20th Annivers...</td>\n",
       "      <td>6541758</td>\n",
       "      <td>MjpaAVbMAWbCusSaxI1D7w==</td>\n",
       "      <td>https://c1.staticflickr.com/4/3930/15342460029...</td>\n",
       "      <td>0.0</td>\n",
       "    </tr>\n",
       "  </tbody>\n",
       "</table>\n",
       "</div>"
      ],
      "text/plain": [
       "            ImageID Subset                                        OriginalURL  \\\n",
       "0  4fa8054781a4c382  train  https://farm3.staticflickr.com/5310/5898076654...   \n",
       "1  b37f763ae67d0888  train  https://c1.staticflickr.com/1/67/197493648_628...   \n",
       "2  7e8584b0f487cb9e  train  https://c7.staticflickr.com/8/7056/7143870979_...   \n",
       "3  86638230febe21c4  train  https://farm5.staticflickr.com/5128/5301868579...   \n",
       "4  249086e72671397d  train  https://c6.staticflickr.com/4/3930/15342460029...   \n",
       "\n",
       "                                  OriginalLandingURL  \\\n",
       "0  https://www.flickr.com/photos/michael-beat/589...   \n",
       "1  https://www.flickr.com/photos/drstarbuck/19749...   \n",
       "2  https://www.flickr.com/photos/circasassy/71438...   \n",
       "3  https://www.flickr.com/photos/ajcreencia/53018...   \n",
       "4  https://www.flickr.com/photos/codnewsroom/1534...   \n",
       "\n",
       "                                        License  \\\n",
       "0  https://creativecommons.org/licenses/by/2.0/   \n",
       "1  https://creativecommons.org/licenses/by/2.0/   \n",
       "2  https://creativecommons.org/licenses/by/2.0/   \n",
       "3  https://creativecommons.org/licenses/by/2.0/   \n",
       "4  https://creativecommons.org/licenses/by/2.0/   \n",
       "\n",
       "                              AuthorProfileURL        Author  \\\n",
       "0  https://www.flickr.com/people/michael-beat/  Michael Beat   \n",
       "1    https://www.flickr.com/people/drstarbuck/         Karen   \n",
       "2    https://www.flickr.com/people/circasassy/    CircaSassy   \n",
       "3    https://www.flickr.com/people/ajcreencia/          Alex   \n",
       "4   https://www.flickr.com/people/codnewsroom/  COD Newsroom   \n",
       "\n",
       "                                               Title  OriginalSize  \\\n",
       "0                                   ...die FNF-Kerze       4405052   \n",
       "1                               Three boys on a hill        494555   \n",
       "2  A Christmas carol and The cricket on the heart...       2371584   \n",
       "3                                    Abbey and Kenny        949267   \n",
       "4  Suburban Law Enforcement Academy 20th Annivers...       6541758   \n",
       "\n",
       "                OriginalMD5  \\\n",
       "0  KFukvivpCM5QXl5SqKe41g==   \n",
       "1  9IzEn38GRNsVpATuv7gzEA==   \n",
       "2  3hQwu0iSzY1VIoXiwp0/Mg==   \n",
       "3  onB+rCZnGQg5PRX7xOs18Q==   \n",
       "4  MjpaAVbMAWbCusSaxI1D7w==   \n",
       "\n",
       "                                    Thumbnail300KURL  Rotation  \n",
       "0  https://c1.staticflickr.com/6/5310/5898076654_...       0.0  \n",
       "1  https://c3.staticflickr.com/1/67/197493648_628...       0.0  \n",
       "2  https://c7.staticflickr.com/8/7056/7143870979_...       0.0  \n",
       "3  https://c4.staticflickr.com/6/5128/5301868579_...       NaN  \n",
       "4  https://c1.staticflickr.com/4/3930/15342460029...       0.0  "
      ]
     },
     "execution_count": 11,
     "metadata": {},
     "output_type": "execute_result"
    }
   ],
   "source": [
    "train_image_ids = pd.read_csv(DATA_PATH/'train-images-boxable-with-rotation.csv')\n",
    "print(train_image_ids.shape)\n",
    "train_image_ids.head()"
   ]
  },
  {
   "cell_type": "code",
   "execution_count": 13,
   "metadata": {},
   "outputs": [
    {
     "name": "stdout",
     "output_type": "stream",
     "text": [
      "total no of rows in the above dataframe: 1743042\n",
      "Total no of unique images is 1743042\n",
      "No of unique Subsets is 1\n",
      "No of labels by ROtation : \n",
      "\t0.0 : 1478844\n",
      "\t270.0 : 10601\n",
      "\t90.0 : 5296\n",
      "\t180.0 : 1031\n"
     ]
    }
   ],
   "source": [
    "print(f'total no of rows in the above dataframe: {train_image_ids.shape[0]}')\n",
    "print(f'Total no of unique images is {train_image_ids.ImageID.nunique()}')\n",
    "print(f'No of unique Subsets is {train_image_ids.Subset.nunique()}')\n",
    "print(f'No of labels by Rotation : ')\n",
    "for i,v in train_image_ids.Rotation.value_counts().items():\n",
    "    print(f'\\t{i} : {v}')"
   ]
  },
  {
   "cell_type": "markdown",
   "metadata": {},
   "source": [
    "### Bounding boxes and image-level labels"
   ]
  },
  {
   "cell_type": "code",
   "execution_count": null,
   "metadata": {},
   "outputs": [],
   "source": []
  },
  {
   "cell_type": "code",
   "execution_count": 14,
   "metadata": {},
   "outputs": [
    {
     "name": "stdout",
     "output_type": "stream",
     "text": [
      "(5743460, 4)\n"
     ]
    },
    {
     "data": {
      "text/html": [
       "<div>\n",
       "<style scoped>\n",
       "    .dataframe tbody tr th:only-of-type {\n",
       "        vertical-align: middle;\n",
       "    }\n",
       "\n",
       "    .dataframe tbody tr th {\n",
       "        vertical-align: top;\n",
       "    }\n",
       "\n",
       "    .dataframe thead th {\n",
       "        text-align: right;\n",
       "    }\n",
       "</style>\n",
       "<table border=\"1\" class=\"dataframe\">\n",
       "  <thead>\n",
       "    <tr style=\"text-align: right;\">\n",
       "      <th></th>\n",
       "      <th>ImageID</th>\n",
       "      <th>Source</th>\n",
       "      <th>LabelName</th>\n",
       "      <th>Confidence</th>\n",
       "    </tr>\n",
       "  </thead>\n",
       "  <tbody>\n",
       "    <tr>\n",
       "      <th>0</th>\n",
       "      <td>79f4fdf91ab44345</td>\n",
       "      <td>verification</td>\n",
       "      <td>/m/01mqdt</td>\n",
       "      <td>1</td>\n",
       "    </tr>\n",
       "    <tr>\n",
       "      <th>1</th>\n",
       "      <td>39f88921c49c1ff8</td>\n",
       "      <td>verification</td>\n",
       "      <td>/m/02wbtzl</td>\n",
       "      <td>1</td>\n",
       "    </tr>\n",
       "    <tr>\n",
       "      <th>2</th>\n",
       "      <td>0b605798b08c1124</td>\n",
       "      <td>verification</td>\n",
       "      <td>/m/0jyfg</td>\n",
       "      <td>1</td>\n",
       "    </tr>\n",
       "    <tr>\n",
       "      <th>3</th>\n",
       "      <td>37f76516e5753fa4</td>\n",
       "      <td>verification</td>\n",
       "      <td>/m/0hg7b</td>\n",
       "      <td>0</td>\n",
       "    </tr>\n",
       "    <tr>\n",
       "      <th>4</th>\n",
       "      <td>9bb59e22352594e9</td>\n",
       "      <td>verification</td>\n",
       "      <td>/m/01226z</td>\n",
       "      <td>1</td>\n",
       "    </tr>\n",
       "  </tbody>\n",
       "</table>\n",
       "</div>"
      ],
      "text/plain": [
       "            ImageID        Source   LabelName  Confidence\n",
       "0  79f4fdf91ab44345  verification   /m/01mqdt           1\n",
       "1  39f88921c49c1ff8  verification  /m/02wbtzl           1\n",
       "2  0b605798b08c1124  verification    /m/0jyfg           1\n",
       "3  37f76516e5753fa4  verification    /m/0hg7b           0\n",
       "4  9bb59e22352594e9  verification   /m/01226z           1"
      ]
     },
     "execution_count": 14,
     "metadata": {},
     "output_type": "execute_result"
    }
   ],
   "source": [
    "image_level_labels = pd.read_csv(DATA_PATH/'challenge-2018-train-annotations-human-imagelabels.csv')\n",
    "print(image_level_labels.shape)\n",
    "image_level_labels.head()"
   ]
  },
  {
   "cell_type": "code",
   "execution_count": 15,
   "metadata": {},
   "outputs": [
    {
     "name": "stdout",
     "output_type": "stream",
     "text": [
      "total no of rows in the above dataframe: 5743460\n",
      "Total no of unique images is 1717554\n",
      "No of unique labels is 500\n",
      "No of labels by confidence : \n",
      "\t1 : 3830005\n",
      "\t0 : 1913455\n",
      "No of labels by source : \n",
      "\tverification : 5564816\n",
      "\tcrowdsource-verification : 178644\n"
     ]
    }
   ],
   "source": [
    "print(f'total no of rows in the above dataframe: {image_level_labels.shape[0]}')\n",
    "print(f'Total no of unique images is {image_level_labels.ImageID.nunique()}')\n",
    "print(f'No of unique labels is {image_level_labels.LabelName.nunique()}')\n",
    "print(f'No of labels by confidence : ')\n",
    "for i,v in image_level_labels.Confidence.value_counts().items():\n",
    "    print(f'\\t{i} : {v}')\n",
    "print(f'No of labels by source : ')\n",
    "for i,v in image_level_labels.Source.value_counts().items():\n",
    "    print(f'\\t{i} : {v}')"
   ]
  },
  {
   "cell_type": "markdown",
   "metadata": {},
   "source": [
    "Around 25,000 images doesn't even have atleast one image level labels. Need to remove them from the validation set as well as think on any tricks needed to train these images."
   ]
  },
  {
   "cell_type": "code",
   "execution_count": 16,
   "metadata": {},
   "outputs": [
    {
     "name": "stdout",
     "output_type": "stream",
     "text": [
      "(12195144, 13)\n"
     ]
    },
    {
     "data": {
      "text/html": [
       "<div>\n",
       "<style scoped>\n",
       "    .dataframe tbody tr th:only-of-type {\n",
       "        vertical-align: middle;\n",
       "    }\n",
       "\n",
       "    .dataframe tbody tr th {\n",
       "        vertical-align: top;\n",
       "    }\n",
       "\n",
       "    .dataframe thead th {\n",
       "        text-align: right;\n",
       "    }\n",
       "</style>\n",
       "<table border=\"1\" class=\"dataframe\">\n",
       "  <thead>\n",
       "    <tr style=\"text-align: right;\">\n",
       "      <th></th>\n",
       "      <th>ImageID</th>\n",
       "      <th>Source</th>\n",
       "      <th>LabelName</th>\n",
       "      <th>Confidence</th>\n",
       "      <th>XMin</th>\n",
       "      <th>XMax</th>\n",
       "      <th>YMin</th>\n",
       "      <th>YMax</th>\n",
       "      <th>IsOccluded</th>\n",
       "      <th>IsTruncated</th>\n",
       "      <th>IsGroupOf</th>\n",
       "      <th>IsDepiction</th>\n",
       "      <th>IsInside</th>\n",
       "    </tr>\n",
       "  </thead>\n",
       "  <tbody>\n",
       "    <tr>\n",
       "      <th>0</th>\n",
       "      <td>8d6dec80235b6fea</td>\n",
       "      <td>xclick</td>\n",
       "      <td>/m/09j5n</td>\n",
       "      <td>1</td>\n",
       "      <td>0.760000</td>\n",
       "      <td>0.778125</td>\n",
       "      <td>0.645892</td>\n",
       "      <td>0.673277</td>\n",
       "      <td>0</td>\n",
       "      <td>0</td>\n",
       "      <td>0</td>\n",
       "      <td>0</td>\n",
       "      <td>0</td>\n",
       "    </tr>\n",
       "    <tr>\n",
       "      <th>1</th>\n",
       "      <td>8d6dec80235b6fea</td>\n",
       "      <td>xclick</td>\n",
       "      <td>/m/09j5n</td>\n",
       "      <td>1</td>\n",
       "      <td>0.817500</td>\n",
       "      <td>0.831875</td>\n",
       "      <td>0.628895</td>\n",
       "      <td>0.661945</td>\n",
       "      <td>0</td>\n",
       "      <td>0</td>\n",
       "      <td>0</td>\n",
       "      <td>0</td>\n",
       "      <td>0</td>\n",
       "    </tr>\n",
       "    <tr>\n",
       "      <th>2</th>\n",
       "      <td>8d6dec80235b6fea</td>\n",
       "      <td>xclick</td>\n",
       "      <td>/m/09j5n</td>\n",
       "      <td>1</td>\n",
       "      <td>0.843125</td>\n",
       "      <td>0.870000</td>\n",
       "      <td>0.619452</td>\n",
       "      <td>0.645892</td>\n",
       "      <td>0</td>\n",
       "      <td>0</td>\n",
       "      <td>0</td>\n",
       "      <td>0</td>\n",
       "      <td>0</td>\n",
       "    </tr>\n",
       "    <tr>\n",
       "      <th>3</th>\n",
       "      <td>8d6dec80235b6fea</td>\n",
       "      <td>xclick</td>\n",
       "      <td>/m/09j5n</td>\n",
       "      <td>1</td>\n",
       "      <td>0.867500</td>\n",
       "      <td>0.891875</td>\n",
       "      <td>0.597734</td>\n",
       "      <td>0.625118</td>\n",
       "      <td>0</td>\n",
       "      <td>0</td>\n",
       "      <td>0</td>\n",
       "      <td>0</td>\n",
       "      <td>0</td>\n",
       "    </tr>\n",
       "    <tr>\n",
       "      <th>4</th>\n",
       "      <td>8d6dec80235b6fea</td>\n",
       "      <td>xclick</td>\n",
       "      <td>/m/09j5n</td>\n",
       "      <td>1</td>\n",
       "      <td>0.895625</td>\n",
       "      <td>0.911250</td>\n",
       "      <td>0.625118</td>\n",
       "      <td>0.656280</td>\n",
       "      <td>0</td>\n",
       "      <td>0</td>\n",
       "      <td>0</td>\n",
       "      <td>0</td>\n",
       "      <td>0</td>\n",
       "    </tr>\n",
       "  </tbody>\n",
       "</table>\n",
       "</div>"
      ],
      "text/plain": [
       "            ImageID  Source LabelName  Confidence      XMin      XMax  \\\n",
       "0  8d6dec80235b6fea  xclick  /m/09j5n           1  0.760000  0.778125   \n",
       "1  8d6dec80235b6fea  xclick  /m/09j5n           1  0.817500  0.831875   \n",
       "2  8d6dec80235b6fea  xclick  /m/09j5n           1  0.843125  0.870000   \n",
       "3  8d6dec80235b6fea  xclick  /m/09j5n           1  0.867500  0.891875   \n",
       "4  8d6dec80235b6fea  xclick  /m/09j5n           1  0.895625  0.911250   \n",
       "\n",
       "       YMin      YMax  IsOccluded  IsTruncated  IsGroupOf  IsDepiction  \\\n",
       "0  0.645892  0.673277           0            0          0            0   \n",
       "1  0.628895  0.661945           0            0          0            0   \n",
       "2  0.619452  0.645892           0            0          0            0   \n",
       "3  0.597734  0.625118           0            0          0            0   \n",
       "4  0.625118  0.656280           0            0          0            0   \n",
       "\n",
       "   IsInside  \n",
       "0         0  \n",
       "1         0  \n",
       "2         0  \n",
       "3         0  \n",
       "4         0  "
      ]
     },
     "execution_count": 16,
     "metadata": {},
     "output_type": "execute_result"
    }
   ],
   "source": [
    "bbox_annotations = pd.read_csv(DATA_PATH/'challenge-2018-train-annotations-bbox.csv')\n",
    "print(bbox_annotations.shape)\n",
    "bbox_annotations.head()"
   ]
  },
  {
   "cell_type": "code",
   "execution_count": 104,
   "metadata": {},
   "outputs": [
    {
     "name": "stdout",
     "output_type": "stream",
     "text": [
      "No of bbox annotations is 12195144\n",
      "Total no of unique images is 1674979\n",
      "No of bbox by Source : \n",
      "\txclick : 10889331\n",
      "\tactivemil : 1305813\n",
      "No of bbox by Confidence : \n",
      "\t1 : 12195144\n",
      "No of bbox by IsOccluded : \n",
      "\t1 : 8138747\n",
      "\t0 : 4037015\n",
      "\t-1 : 19382\n",
      "No of bbox by IsTruncated : \n",
      "\t0 : 9171299\n",
      "\t1 : 3004463\n",
      "\t-1 : 19382\n",
      "No of bbox by IsGroupOf : \n",
      "\t0 : 11501347\n",
      "\t1 : 674415\n",
      "\t-1 : 19382\n",
      "No of bbox by IsDepiction : \n",
      "\t0 : 11518289\n",
      "\t1 : 657473\n",
      "\t-1 : 19382\n",
      "No of bbox by IsInside : \n",
      "\t0 : 12140929\n",
      "\t1 : 34833\n",
      "\t-1 : 19382\n"
     ]
    }
   ],
   "source": [
    "print(f'No of bbox annotations is {bbox_annotations.shape[0]}')\n",
    "print(f'Total no of unique images is {bbox_annotations.ImageID.nunique()}')\n",
    "print(f'No of bbox by Source : ')\n",
    "for i,v in bbox_annotations.Source.value_counts().items():\n",
    "    print(f'\\t{i} : {v}')\n",
    "print(f'No of bbox by Confidence : ')\n",
    "for i,v in bbox_annotations.Confidence.value_counts().items():\n",
    "    print(f'\\t{i} : {v}')\n",
    "print(f'No of bbox by IsOccluded : ')\n",
    "for i,v in bbox_annotations.IsOccluded.value_counts().items():\n",
    "    print(f'\\t{i} : {v}')\n",
    "print(f'No of bbox by IsTruncated : ')\n",
    "for i,v in bbox_annotations.IsTruncated.value_counts().items():\n",
    "    print(f'\\t{i} : {v}')\n",
    "print(f'No of bbox by IsGroupOf : ')\n",
    "for i,v in bbox_annotations.IsGroupOf.value_counts().items():\n",
    "    print(f'\\t{i} : {v}')\n",
    "print(f'No of bbox by IsDepiction : ')\n",
    "for i,v in bbox_annotations.IsDepiction.value_counts().items():\n",
    "    print(f'\\t{i} : {v}')\n",
    "print(f'No of bbox by IsInside : ')\n",
    "for i,v in bbox_annotations.IsInside.value_counts().items():\n",
    "    print(f'\\t{i} : {v}')"
   ]
  },
  {
   "cell_type": "markdown",
   "metadata": {},
   "source": [
    "### Class labels and heirarchy"
   ]
  },
  {
   "cell_type": "markdown",
   "metadata": {},
   "source": [
    "In this problem, classes are organized herirachically , hence the scoring depends on all the parent classes as well"
   ]
  },
  {
   "cell_type": "code",
   "execution_count": 23,
   "metadata": {},
   "outputs": [
    {
     "name": "stdout",
     "output_type": "stream",
     "text": [
      "(500, 2)\n"
     ]
    },
    {
     "data": {
      "text/html": [
       "<div>\n",
       "<style scoped>\n",
       "    .dataframe tbody tr th:only-of-type {\n",
       "        vertical-align: middle;\n",
       "    }\n",
       "\n",
       "    .dataframe tbody tr th {\n",
       "        vertical-align: top;\n",
       "    }\n",
       "\n",
       "    .dataframe thead th {\n",
       "        text-align: right;\n",
       "    }\n",
       "</style>\n",
       "<table border=\"1\" class=\"dataframe\">\n",
       "  <thead>\n",
       "    <tr style=\"text-align: right;\">\n",
       "      <th></th>\n",
       "      <th>class_id</th>\n",
       "      <th>class_name</th>\n",
       "    </tr>\n",
       "  </thead>\n",
       "  <tbody>\n",
       "    <tr>\n",
       "      <th>0</th>\n",
       "      <td>/m/061hd_</td>\n",
       "      <td>Infant bed</td>\n",
       "    </tr>\n",
       "    <tr>\n",
       "      <th>1</th>\n",
       "      <td>/m/06m11</td>\n",
       "      <td>Rose</td>\n",
       "    </tr>\n",
       "    <tr>\n",
       "      <th>2</th>\n",
       "      <td>/m/03120</td>\n",
       "      <td>Flag</td>\n",
       "    </tr>\n",
       "    <tr>\n",
       "      <th>3</th>\n",
       "      <td>/m/01kb5b</td>\n",
       "      <td>Flashlight</td>\n",
       "    </tr>\n",
       "    <tr>\n",
       "      <th>4</th>\n",
       "      <td>/m/0120dh</td>\n",
       "      <td>Sea turtle</td>\n",
       "    </tr>\n",
       "  </tbody>\n",
       "</table>\n",
       "</div>"
      ],
      "text/plain": [
       "    class_id  class_name\n",
       "0  /m/061hd_  Infant bed\n",
       "1   /m/06m11        Rose\n",
       "2   /m/03120        Flag\n",
       "3  /m/01kb5b  Flashlight\n",
       "4  /m/0120dh  Sea turtle"
      ]
     },
     "execution_count": 23,
     "metadata": {},
     "output_type": "execute_result"
    }
   ],
   "source": [
    "classes_metadata = pd.read_csv(DATA_PATH/'challenge-2018-class-descriptions-500.csv' , header=None, names=['class_id', 'class_name'])\n",
    "print(classes_metadata.shape)\n",
    "classes_metadata.head()"
   ]
  },
  {
   "cell_type": "code",
   "execution_count": 26,
   "metadata": {},
   "outputs": [],
   "source": [
    "# https://storage.googleapis.com/openimages/2018_04/bbox_labels_600_hierarchy_visualizer/circle.html\n",
    "# https://storage.googleapis.com/openimages/challenge_2018/bbox_labels_500_hierarchy.json\n",
    "with open(DATA_PATH/'bbox_labels_500_hierarchy.json') as f:\n",
    "    class_heirarchy = json.load(f)"
   ]
  },
  {
   "cell_type": "markdown",
   "metadata": {},
   "source": [
    "### Consolidating the data for each image"
   ]
  },
  {
   "cell_type": "code",
   "execution_count": 78,
   "metadata": {},
   "outputs": [],
   "source": [
    "class2ids = {c:i for i,c in enumerate(classes_metadata.class_id)}\n",
    "ids2class = {i:c for c,i in class2ids.items()}\n",
    "class2name = pd.Series(classes_metadata.class_name.values, index=classes_metadata.class_id).to_dict()"
   ]
  },
  {
   "cell_type": "code",
   "execution_count": 79,
   "metadata": {},
   "outputs": [],
   "source": [
    "save_obj(class2ids, TMP_PATH/'class_to_ids.pkl')\n",
    "save_obj(ids2class, TMP_PATH/'ids_to_class.pkl')\n",
    "save_obj(class2name, TMP_PATH/'class_to_name.pkl')"
   ]
  },
  {
   "cell_type": "code",
   "execution_count": 80,
   "metadata": {},
   "outputs": [],
   "source": [
    "class2ids = load_obj(TMP_PATH/'class_to_ids.pkl')\n",
    "ids2class = load_obj(TMP_PATH/'ids_to_class.pkl')\n",
    "class2name = load_obj(TMP_PATH/'class_to_name.pkl')"
   ]
  },
  {
   "cell_type": "code",
   "execution_count": 122,
   "metadata": {},
   "outputs": [
    {
     "data": {
      "text/html": [
       "<div>\n",
       "<style scoped>\n",
       "    .dataframe tbody tr th:only-of-type {\n",
       "        vertical-align: middle;\n",
       "    }\n",
       "\n",
       "    .dataframe tbody tr th {\n",
       "        vertical-align: top;\n",
       "    }\n",
       "\n",
       "    .dataframe thead th {\n",
       "        text-align: right;\n",
       "    }\n",
       "</style>\n",
       "<table border=\"1\" class=\"dataframe\">\n",
       "  <thead>\n",
       "    <tr style=\"text-align: right;\">\n",
       "      <th></th>\n",
       "      <th>ImageId</th>\n",
       "      <th>Bbox</th>\n",
       "      <th>Labels</th>\n",
       "    </tr>\n",
       "  </thead>\n",
       "  <tbody>\n",
       "    <tr>\n",
       "      <th>0</th>\n",
       "      <td>4fa8054781a4c382</td>\n",
       "      <td>NaN</td>\n",
       "      <td>NaN</td>\n",
       "    </tr>\n",
       "    <tr>\n",
       "      <th>1</th>\n",
       "      <td>b37f763ae67d0888</td>\n",
       "      <td>NaN</td>\n",
       "      <td>NaN</td>\n",
       "    </tr>\n",
       "    <tr>\n",
       "      <th>2</th>\n",
       "      <td>7e8584b0f487cb9e</td>\n",
       "      <td>NaN</td>\n",
       "      <td>NaN</td>\n",
       "    </tr>\n",
       "    <tr>\n",
       "      <th>3</th>\n",
       "      <td>86638230febe21c4</td>\n",
       "      <td>NaN</td>\n",
       "      <td>NaN</td>\n",
       "    </tr>\n",
       "    <tr>\n",
       "      <th>4</th>\n",
       "      <td>249086e72671397d</td>\n",
       "      <td>NaN</td>\n",
       "      <td>NaN</td>\n",
       "    </tr>\n",
       "  </tbody>\n",
       "</table>\n",
       "</div>"
      ],
      "text/plain": [
       "            ImageId Bbox Labels\n",
       "0  4fa8054781a4c382  NaN    NaN\n",
       "1  b37f763ae67d0888  NaN    NaN\n",
       "2  7e8584b0f487cb9e  NaN    NaN\n",
       "3  86638230febe21c4  NaN    NaN\n",
       "4  249086e72671397d  NaN    NaN"
      ]
     },
     "execution_count": 122,
     "metadata": {},
     "output_type": "execute_result"
    }
   ],
   "source": [
    "train_img_anno = pd.DataFrame(columns=['ImageId', 'Bbox', 'Labels'])\n",
    "train_img_anno.ImageId = train_image_ids.ImageID\n",
    "train_img_anno.head()\n",
    "    "
   ]
  },
  {
   "cell_type": "code",
   "execution_count": 126,
   "metadata": {},
   "outputs": [
    {
     "name": "stderr",
     "output_type": "stream",
     "text": [
      "/home/manoj/anaconda3/lib/python3.6/site-packages/ipykernel_launcher.py:2: SettingWithCopyWarning: \n",
      "A value is trying to be set on a copy of a slice from a DataFrame.\n",
      "Try using .loc[row_indexer,col_indexer] = value instead\n",
      "\n",
      "See the caveats in the documentation: http://pandas.pydata.org/pandas-docs/stable/indexing.html#indexing-view-versus-copy\n",
      "  \n",
      "/home/manoj/anaconda3/lib/python3.6/site-packages/ipykernel_launcher.py:3: SettingWithCopyWarning: \n",
      "A value is trying to be set on a copy of a slice from a DataFrame.\n",
      "Try using .loc[row_indexer,col_indexer] = value instead\n",
      "\n",
      "See the caveats in the documentation: http://pandas.pydata.org/pandas-docs/stable/indexing.html#indexing-view-versus-copy\n",
      "  This is separate from the ipykernel package so we can avoid doing imports until\n"
     ]
    },
    {
     "data": {
      "text/html": [
       "<div>\n",
       "<style scoped>\n",
       "    .dataframe tbody tr th:only-of-type {\n",
       "        vertical-align: middle;\n",
       "    }\n",
       "\n",
       "    .dataframe tbody tr th {\n",
       "        vertical-align: top;\n",
       "    }\n",
       "\n",
       "    .dataframe thead th {\n",
       "        text-align: right;\n",
       "    }\n",
       "</style>\n",
       "<table border=\"1\" class=\"dataframe\">\n",
       "  <thead>\n",
       "    <tr style=\"text-align: right;\">\n",
       "      <th></th>\n",
       "      <th>ImageID</th>\n",
       "      <th>bb</th>\n",
       "    </tr>\n",
       "  </thead>\n",
       "  <tbody>\n",
       "    <tr>\n",
       "      <th>0</th>\n",
       "      <td>8d6dec80235b6fea</td>\n",
       "      <td>[70.0, 0.76, 0.645892, 0.778125, 0.673277]</td>\n",
       "    </tr>\n",
       "    <tr>\n",
       "      <th>1</th>\n",
       "      <td>8d6dec80235b6fea</td>\n",
       "      <td>[70.0, 0.8175, 0.628895, 0.831875, 0.661945]</td>\n",
       "    </tr>\n",
       "    <tr>\n",
       "      <th>2</th>\n",
       "      <td>8d6dec80235b6fea</td>\n",
       "      <td>[70.0, 0.843125, 0.619452, 0.87, 0.645892]</td>\n",
       "    </tr>\n",
       "    <tr>\n",
       "      <th>3</th>\n",
       "      <td>8d6dec80235b6fea</td>\n",
       "      <td>[70.0, 0.8675, 0.597734, 0.891875, 0.625118000...</td>\n",
       "    </tr>\n",
       "    <tr>\n",
       "      <th>4</th>\n",
       "      <td>8d6dec80235b6fea</td>\n",
       "      <td>[70.0, 0.895625, 0.6251180000000001, 0.91125, ...</td>\n",
       "    </tr>\n",
       "  </tbody>\n",
       "</table>\n",
       "</div>"
      ],
      "text/plain": [
       "            ImageID                                                 bb\n",
       "0  8d6dec80235b6fea         [70.0, 0.76, 0.645892, 0.778125, 0.673277]\n",
       "1  8d6dec80235b6fea       [70.0, 0.8175, 0.628895, 0.831875, 0.661945]\n",
       "2  8d6dec80235b6fea         [70.0, 0.843125, 0.619452, 0.87, 0.645892]\n",
       "3  8d6dec80235b6fea  [70.0, 0.8675, 0.597734, 0.891875, 0.625118000...\n",
       "4  8d6dec80235b6fea  [70.0, 0.895625, 0.6251180000000001, 0.91125, ..."
      ]
     },
     "execution_count": 126,
     "metadata": {},
     "output_type": "execute_result"
    }
   ],
   "source": [
    "bbox = bbox_annotations[['ImageID','LabelName','XMin','XMax','YMin','YMax']]\n",
    "bbox['Label'] = bbox['LabelName'].apply(lambda x: class2ids[x])\n",
    "bbox['bb'] = bbox[['Label','XMin', 'YMin', 'XMax', 'YMax']].values.tolist()\n",
    "bbox = bbox.drop(['LabelName','XMin', 'YMin', 'XMax', 'YMax', 'Label'], axis=1)\n",
    "bbox.head()"
   ]
  },
  {
   "cell_type": "code",
   "execution_count": 127,
   "metadata": {},
   "outputs": [],
   "source": [
    "x = bbox.groupby(by='ImageID')['bb'].apply(list)"
   ]
  },
  {
   "cell_type": "code",
   "execution_count": 137,
   "metadata": {},
   "outputs": [],
   "source": [
    "image_bbox = x.to_frame().reset_index()"
   ]
  },
  {
   "cell_type": "code",
   "execution_count": 140,
   "metadata": {},
   "outputs": [
    {
     "name": "stdout",
     "output_type": "stream",
     "text": [
      "(1674979, 2)\n"
     ]
    },
    {
     "data": {
      "text/html": [
       "<div>\n",
       "<style scoped>\n",
       "    .dataframe tbody tr th:only-of-type {\n",
       "        vertical-align: middle;\n",
       "    }\n",
       "\n",
       "    .dataframe tbody tr th {\n",
       "        vertical-align: top;\n",
       "    }\n",
       "\n",
       "    .dataframe thead th {\n",
       "        text-align: right;\n",
       "    }\n",
       "</style>\n",
       "<table border=\"1\" class=\"dataframe\">\n",
       "  <thead>\n",
       "    <tr style=\"text-align: right;\">\n",
       "      <th></th>\n",
       "      <th>ImageID</th>\n",
       "      <th>bb</th>\n",
       "    </tr>\n",
       "  </thead>\n",
       "  <tbody>\n",
       "    <tr>\n",
       "      <th>0</th>\n",
       "      <td>000002b66c9c498e</td>\n",
       "      <td>[[338.0, 0.0125, 0.14843800000000001, 0.195311...</td>\n",
       "    </tr>\n",
       "    <tr>\n",
       "      <th>1</th>\n",
       "      <td>000002b97e5471a0</td>\n",
       "      <td>[[43.0, 0.0, 0.9033329999999999, 0.05440900000...</td>\n",
       "    </tr>\n",
       "    <tr>\n",
       "      <th>2</th>\n",
       "      <td>000002c707c9895e</td>\n",
       "      <td>[[164.0, 0.053085, 0.319846, 0.464848999999999...</td>\n",
       "    </tr>\n",
       "    <tr>\n",
       "      <th>3</th>\n",
       "      <td>0000048549557964</td>\n",
       "      <td>[[43.0, 0.0, 0.164167, 0.250625, 0.765], [43.0...</td>\n",
       "    </tr>\n",
       "    <tr>\n",
       "      <th>4</th>\n",
       "      <td>000004f4400f6ec5</td>\n",
       "      <td>[[492.0, 0.4775, 0.399627, 0.496875, 0.441643]...</td>\n",
       "    </tr>\n",
       "  </tbody>\n",
       "</table>\n",
       "</div>"
      ],
      "text/plain": [
       "            ImageID                                                 bb\n",
       "0  000002b66c9c498e  [[338.0, 0.0125, 0.14843800000000001, 0.195311...\n",
       "1  000002b97e5471a0  [[43.0, 0.0, 0.9033329999999999, 0.05440900000...\n",
       "2  000002c707c9895e  [[164.0, 0.053085, 0.319846, 0.464848999999999...\n",
       "3  0000048549557964  [[43.0, 0.0, 0.164167, 0.250625, 0.765], [43.0...\n",
       "4  000004f4400f6ec5  [[492.0, 0.4775, 0.399627, 0.496875, 0.441643]..."
      ]
     },
     "execution_count": 140,
     "metadata": {},
     "output_type": "execute_result"
    }
   ],
   "source": [
    "print(image_bbox.shape)\n",
    "image_bbox.head()"
   ]
  },
  {
   "cell_type": "code",
   "execution_count": 142,
   "metadata": {},
   "outputs": [
    {
     "name": "stdout",
     "output_type": "stream",
     "text": [
      "(1743042, 1)\n"
     ]
    },
    {
     "data": {
      "text/html": [
       "<div>\n",
       "<style scoped>\n",
       "    .dataframe tbody tr th:only-of-type {\n",
       "        vertical-align: middle;\n",
       "    }\n",
       "\n",
       "    .dataframe tbody tr th {\n",
       "        vertical-align: top;\n",
       "    }\n",
       "\n",
       "    .dataframe thead th {\n",
       "        text-align: right;\n",
       "    }\n",
       "</style>\n",
       "<table border=\"1\" class=\"dataframe\">\n",
       "  <thead>\n",
       "    <tr style=\"text-align: right;\">\n",
       "      <th></th>\n",
       "      <th>ImageID</th>\n",
       "    </tr>\n",
       "  </thead>\n",
       "  <tbody>\n",
       "    <tr>\n",
       "      <th>0</th>\n",
       "      <td>4fa8054781a4c382</td>\n",
       "    </tr>\n",
       "    <tr>\n",
       "      <th>1</th>\n",
       "      <td>b37f763ae67d0888</td>\n",
       "    </tr>\n",
       "    <tr>\n",
       "      <th>2</th>\n",
       "      <td>7e8584b0f487cb9e</td>\n",
       "    </tr>\n",
       "    <tr>\n",
       "      <th>3</th>\n",
       "      <td>86638230febe21c4</td>\n",
       "    </tr>\n",
       "    <tr>\n",
       "      <th>4</th>\n",
       "      <td>249086e72671397d</td>\n",
       "    </tr>\n",
       "  </tbody>\n",
       "</table>\n",
       "</div>"
      ],
      "text/plain": [
       "            ImageID\n",
       "0  4fa8054781a4c382\n",
       "1  b37f763ae67d0888\n",
       "2  7e8584b0f487cb9e\n",
       "3  86638230febe21c4\n",
       "4  249086e72671397d"
      ]
     },
     "execution_count": 142,
     "metadata": {},
     "output_type": "execute_result"
    }
   ],
   "source": [
    "train_ids = train_image_ids[['ImageID']]\n",
    "print(train_ids.shape)\n",
    "train_ids.head()"
   ]
  },
  {
   "cell_type": "code",
   "execution_count": 143,
   "metadata": {},
   "outputs": [
    {
     "name": "stdout",
     "output_type": "stream",
     "text": [
      "(1674979, 2)\n"
     ]
    },
    {
     "data": {
      "text/html": [
       "<div>\n",
       "<style scoped>\n",
       "    .dataframe tbody tr th:only-of-type {\n",
       "        vertical-align: middle;\n",
       "    }\n",
       "\n",
       "    .dataframe tbody tr th {\n",
       "        vertical-align: top;\n",
       "    }\n",
       "\n",
       "    .dataframe thead th {\n",
       "        text-align: right;\n",
       "    }\n",
       "</style>\n",
       "<table border=\"1\" class=\"dataframe\">\n",
       "  <thead>\n",
       "    <tr style=\"text-align: right;\">\n",
       "      <th></th>\n",
       "      <th>ImageID</th>\n",
       "      <th>bb</th>\n",
       "    </tr>\n",
       "  </thead>\n",
       "  <tbody>\n",
       "    <tr>\n",
       "      <th>0</th>\n",
       "      <td>4fa8054781a4c382</td>\n",
       "      <td>[[338.0, 0.388125, 0.355, 0.473125, 0.631667],...</td>\n",
       "    </tr>\n",
       "    <tr>\n",
       "      <th>1</th>\n",
       "      <td>b37f763ae67d0888</td>\n",
       "      <td>[[113.0, 0.188281, 0.297917, 0.320312, 0.81875...</td>\n",
       "    </tr>\n",
       "    <tr>\n",
       "      <th>2</th>\n",
       "      <td>7e8584b0f487cb9e</td>\n",
       "      <td>[[164.0, 0.15015599999999998, 0.275625, 0.5380...</td>\n",
       "    </tr>\n",
       "    <tr>\n",
       "      <th>3</th>\n",
       "      <td>86638230febe21c4</td>\n",
       "      <td>[[240.0, 0.603333, 0.21375, 0.970833, 0.574375...</td>\n",
       "    </tr>\n",
       "    <tr>\n",
       "      <th>4</th>\n",
       "      <td>249086e72671397d</td>\n",
       "      <td>[[338.0, 0.630625, 0.699029, 0.695625, 0.90114...</td>\n",
       "    </tr>\n",
       "  </tbody>\n",
       "</table>\n",
       "</div>"
      ],
      "text/plain": [
       "            ImageID                                                 bb\n",
       "0  4fa8054781a4c382  [[338.0, 0.388125, 0.355, 0.473125, 0.631667],...\n",
       "1  b37f763ae67d0888  [[113.0, 0.188281, 0.297917, 0.320312, 0.81875...\n",
       "2  7e8584b0f487cb9e  [[164.0, 0.15015599999999998, 0.275625, 0.5380...\n",
       "3  86638230febe21c4  [[240.0, 0.603333, 0.21375, 0.970833, 0.574375...\n",
       "4  249086e72671397d  [[338.0, 0.630625, 0.699029, 0.695625, 0.90114..."
      ]
     },
     "execution_count": 143,
     "metadata": {},
     "output_type": "execute_result"
    }
   ],
   "source": [
    "train_csv = train_ids.merge(image_bbox, how='inner', on='ImageID')\n",
    "print(train_csv.shape)\n",
    "train_csv.head()"
   ]
  },
  {
   "cell_type": "code",
   "execution_count": 146,
   "metadata": {},
   "outputs": [],
   "source": [
    "train_csv.to_csv(TMP_PATH/'train_images_bbox.csv', index=False)"
   ]
  },
  {
   "cell_type": "code",
   "execution_count": 147,
   "metadata": {},
   "outputs": [
    {
     "name": "stdout",
     "output_type": "stream",
     "text": [
      "(1674979, 2)\n"
     ]
    },
    {
     "data": {
      "text/html": [
       "<div>\n",
       "<style scoped>\n",
       "    .dataframe tbody tr th:only-of-type {\n",
       "        vertical-align: middle;\n",
       "    }\n",
       "\n",
       "    .dataframe tbody tr th {\n",
       "        vertical-align: top;\n",
       "    }\n",
       "\n",
       "    .dataframe thead th {\n",
       "        text-align: right;\n",
       "    }\n",
       "</style>\n",
       "<table border=\"1\" class=\"dataframe\">\n",
       "  <thead>\n",
       "    <tr style=\"text-align: right;\">\n",
       "      <th></th>\n",
       "      <th>ImageID</th>\n",
       "      <th>bb</th>\n",
       "    </tr>\n",
       "  </thead>\n",
       "  <tbody>\n",
       "    <tr>\n",
       "      <th>0</th>\n",
       "      <td>4fa8054781a4c382</td>\n",
       "      <td>[[338.0, 0.388125, 0.355, 0.473125, 0.631667],...</td>\n",
       "    </tr>\n",
       "    <tr>\n",
       "      <th>1</th>\n",
       "      <td>b37f763ae67d0888</td>\n",
       "      <td>[[113.0, 0.188281, 0.297917, 0.320312, 0.81875...</td>\n",
       "    </tr>\n",
       "    <tr>\n",
       "      <th>2</th>\n",
       "      <td>7e8584b0f487cb9e</td>\n",
       "      <td>[[164.0, 0.15015599999999998, 0.275625, 0.5380...</td>\n",
       "    </tr>\n",
       "    <tr>\n",
       "      <th>3</th>\n",
       "      <td>86638230febe21c4</td>\n",
       "      <td>[[240.0, 0.603333, 0.21375, 0.970833, 0.574375...</td>\n",
       "    </tr>\n",
       "    <tr>\n",
       "      <th>4</th>\n",
       "      <td>249086e72671397d</td>\n",
       "      <td>[[338.0, 0.630625, 0.699029, 0.695625, 0.90114...</td>\n",
       "    </tr>\n",
       "  </tbody>\n",
       "</table>\n",
       "</div>"
      ],
      "text/plain": [
       "            ImageID                                                 bb\n",
       "0  4fa8054781a4c382  [[338.0, 0.388125, 0.355, 0.473125, 0.631667],...\n",
       "1  b37f763ae67d0888  [[113.0, 0.188281, 0.297917, 0.320312, 0.81875...\n",
       "2  7e8584b0f487cb9e  [[164.0, 0.15015599999999998, 0.275625, 0.5380...\n",
       "3  86638230febe21c4  [[240.0, 0.603333, 0.21375, 0.970833, 0.574375...\n",
       "4  249086e72671397d  [[338.0, 0.630625, 0.699029, 0.695625, 0.90114..."
      ]
     },
     "execution_count": 147,
     "metadata": {},
     "output_type": "execute_result"
    }
   ],
   "source": [
    "train_data = pd.read_csv(TMP_PATH/'train_images_bbox.csv')\n",
    "print(train_data.shape)\n",
    "train_data.head()"
   ]
  },
  {
   "cell_type": "markdown",
   "metadata": {},
   "source": [
    "### Visualizing the data"
   ]
  },
  {
   "cell_type": "code",
   "execution_count": 180,
   "metadata": {},
   "outputs": [
    {
     "data": {
      "text/html": [
       "<div>\n",
       "<style scoped>\n",
       "    .dataframe tbody tr th:only-of-type {\n",
       "        vertical-align: middle;\n",
       "    }\n",
       "\n",
       "    .dataframe tbody tr th {\n",
       "        vertical-align: top;\n",
       "    }\n",
       "\n",
       "    .dataframe thead th {\n",
       "        text-align: right;\n",
       "    }\n",
       "</style>\n",
       "<table border=\"1\" class=\"dataframe\">\n",
       "  <thead>\n",
       "    <tr style=\"text-align: right;\">\n",
       "      <th></th>\n",
       "      <th>bb</th>\n",
       "    </tr>\n",
       "    <tr>\n",
       "      <th>ImageID</th>\n",
       "      <th></th>\n",
       "    </tr>\n",
       "  </thead>\n",
       "  <tbody>\n",
       "    <tr>\n",
       "      <th>4fa8054781a4c382</th>\n",
       "      <td>[[338.0, 0.388125, 0.355, 0.473125, 0.631667],...</td>\n",
       "    </tr>\n",
       "    <tr>\n",
       "      <th>b37f763ae67d0888</th>\n",
       "      <td>[[113.0, 0.188281, 0.297917, 0.320312, 0.81875...</td>\n",
       "    </tr>\n",
       "    <tr>\n",
       "      <th>7e8584b0f487cb9e</th>\n",
       "      <td>[[164.0, 0.15015599999999998, 0.275625, 0.5380...</td>\n",
       "    </tr>\n",
       "    <tr>\n",
       "      <th>86638230febe21c4</th>\n",
       "      <td>[[240.0, 0.603333, 0.21375, 0.970833, 0.574375...</td>\n",
       "    </tr>\n",
       "    <tr>\n",
       "      <th>249086e72671397d</th>\n",
       "      <td>[[338.0, 0.630625, 0.699029, 0.695625, 0.90114...</td>\n",
       "    </tr>\n",
       "  </tbody>\n",
       "</table>\n",
       "</div>"
      ],
      "text/plain": [
       "                                                                 bb\n",
       "ImageID                                                            \n",
       "4fa8054781a4c382  [[338.0, 0.388125, 0.355, 0.473125, 0.631667],...\n",
       "b37f763ae67d0888  [[113.0, 0.188281, 0.297917, 0.320312, 0.81875...\n",
       "7e8584b0f487cb9e  [[164.0, 0.15015599999999998, 0.275625, 0.5380...\n",
       "86638230febe21c4  [[240.0, 0.603333, 0.21375, 0.970833, 0.574375...\n",
       "249086e72671397d  [[338.0, 0.630625, 0.699029, 0.695625, 0.90114..."
      ]
     },
     "execution_count": 180,
     "metadata": {},
     "output_type": "execute_result"
    }
   ],
   "source": [
    "train_data = train_data.set_index('ImageID')\n",
    "train_data.head()"
   ]
  },
  {
   "cell_type": "code",
   "execution_count": 196,
   "metadata": {},
   "outputs": [],
   "source": [
    "def show_with_bbox(imId):\n",
    "    img = open_image(TRAIN_PATH/f'{imId}.jpg')\n",
    "    ax = multi_od_image(img, ast.literal_eval(train_data.loc[imId].bb), ids2class, class2name)"
   ]
  },
  {
   "cell_type": "code",
   "execution_count": 197,
   "metadata": {},
   "outputs": [
    {
     "data": {
      "image/png": "[encoded data removed]",
      "text/plain": [
       "<Figure size 432x288 with 1 Axes>"
      ]
     },
     "metadata": {},
     "output_type": "display_data"
    }
   ],
   "source": [
    "show_with_bbox('249086e72671397d')"
   ]
  },
  {
   "cell_type": "code",
   "execution_count": null,
   "metadata": {},
   "outputs": [],
   "source": []
  }
 ],
 "metadata": {
  "kernelspec": {
   "display_name": "Python 3",
   "language": "python",
   "name": "python3"
  },
  "language_info": {
   "codemirror_mode": {
    "name": "ipython",
    "version": 3
   },
   "file_extension": ".py",
   "mimetype": "text/x-python",
   "name": "python",
   "nbconvert_exporter": "python",
   "pygments_lexer": "ipython3",
   "version": "3.6.6"
  }
 },
 "nbformat": 4,
 "nbformat_minor": 2
}
